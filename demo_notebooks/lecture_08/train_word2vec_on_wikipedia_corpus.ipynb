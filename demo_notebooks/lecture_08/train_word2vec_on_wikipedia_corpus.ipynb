{
 "cells": [
  {
   "cell_type": "markdown",
   "metadata": {},
   "source": [
    "# First download the raw corpus filest for all recent wikipedia articles!\n",
    " -  **english** WIKIPEDIA corpus 14 GB\n",
    "   - https://dumps.wikimedia.org/enwiki/latest/enwiki-latest-pages-articles.xml.bz2\n",
    " -  **hungarian** WIKIPEDIA corpus 712 MB\n",
    "   -  https://dumps.wikimedia.org/huwiki/latest/huwiki-latest-pages-articles.xml.bz2\n"
   ]
  },
  {
   "cell_type": "code",
   "execution_count": 1,
   "metadata": {
    "scrolled": true
   },
   "outputs": [
    {
     "name": "stdout",
     "output_type": "stream",
     "text": [
      "total 15G\r\n",
      "-rw-r--r-- 1 pataki domain users  14G Mar 22 12:05 en_wiki_corpus.xml.bz2\r\n",
      "-rw-r--r-- 1 pataki domain users 712M Mar 21 15:13 hun_wiki_corpus.xml.bz2\r\n"
     ]
    }
   ],
   "source": [
    "!ls -lh corpus_data/"
   ]
  },
  {
   "cell_type": "code",
   "execution_count": 2,
   "metadata": {},
   "outputs": [],
   "source": [
    "from nltk.stem import SnowballStemmer\n",
    "from gensim.corpora import WikiCorpus\n",
    "from gensim.models.word2vec import Word2Vec"
   ]
  },
  {
   "cell_type": "code",
   "execution_count": 3,
   "metadata": {},
   "outputs": [],
   "source": [
    "hun_stem = SnowballStemmer(language='hungarian')\n",
    "en_stem  = SnowballStemmer(language='english')"
   ]
  },
  {
   "cell_type": "markdown",
   "metadata": {},
   "source": [
    "### Load the zipped XML wikipedia files and parse them!"
   ]
  },
  {
   "cell_type": "code",
   "execution_count": 4,
   "metadata": {},
   "outputs": [
    {
     "name": "stdout",
     "output_type": "stream",
     "text": [
      "CPU times: user 11min 1s, sys: 15min 52s, total: 26min 54s\n",
      "Wall time: 28min 25s\n"
     ]
    }
   ],
   "source": [
    "%%time\n",
    "hun_wiki = WikiCorpus('corpus_data/hun_wiki_corpus.xml.bz2')\n",
    "hun_articles = list(hun_wiki.get_texts())\n",
    "len(hun_articles)"
   ]
  },
  {
   "cell_type": "code",
   "execution_count": 5,
   "metadata": {},
   "outputs": [
    {
     "name": "stdout",
     "output_type": "stream",
     "text": [
      "CPU times: user 3h 10min 18s, sys: 5h 32min 56s, total: 8h 43min 15s\n",
      "Wall time: 9h 19min 30s\n"
     ]
    }
   ],
   "source": [
    "%%time\n",
    "en_wiki = WikiCorpus('corpus_data/en_wiki_corpus.xml.bz2')\n",
    "en_articles = list(en_wiki.get_texts())\n",
    "len(en_articles)"
   ]
  },
  {
   "cell_type": "markdown",
   "metadata": {},
   "source": [
    "#### Check a random hungarian article\n",
    "[Kártyajáték](https://hu.wikipedia.org/wiki/K%C3%A1rtyaj%C3%A1t%C3%A9k)"
   ]
  },
  {
   "cell_type": "code",
   "execution_count": 6,
   "metadata": {},
   "outputs": [
    {
     "data": {
      "text/plain": [
       "['középkori',\n",
       " 'bécsi',\n",
       " 'udvari',\n",
       " 'kártyajáték',\n",
       " 'hofämterspiel',\n",
       " 'egy',\n",
       " 'lapja',\n",
       " 'kártyajátékokat',\n",
       " 'általában',\n",
       " 'több']"
      ]
     },
     "execution_count": 6,
     "metadata": {},
     "output_type": "execute_result"
    }
   ],
   "source": [
    "hun_articles[4522][0:10]"
   ]
  },
  {
   "cell_type": "markdown",
   "metadata": {},
   "source": [
    "Stemmed version of this article. Stemming for hungarian words are far from perfect..."
   ]
  },
  {
   "cell_type": "code",
   "execution_count": 7,
   "metadata": {},
   "outputs": [
    {
     "data": {
      "text/plain": [
       "['középkor',\n",
       " 'bécs',\n",
       " 'udvar',\n",
       " 'kártyajáte',\n",
       " 'hofämterspiel',\n",
       " 'egy',\n",
       " 'lap',\n",
       " 'kártyajáték',\n",
       " 'által',\n",
       " 'több']"
      ]
     },
     "execution_count": 7,
     "metadata": {},
     "output_type": "execute_result"
    }
   ],
   "source": [
    "[hun_stem.stem(i) for i in hun_articles[4522][0:10]]"
   ]
  },
  {
   "cell_type": "markdown",
   "metadata": {},
   "source": [
    "## Let's stem the articles!"
   ]
  },
  {
   "cell_type": "code",
   "execution_count": 8,
   "metadata": {},
   "outputs": [
    {
     "name": "stdout",
     "output_type": "stream",
     "text": [
      "CPU times: user 43min 17s, sys: 2min 41s, total: 45min 59s\n",
      "Wall time: 46min\n"
     ]
    }
   ],
   "source": [
    "%%time\n",
    "hun_stemmed_articles = []\n",
    "for i in hun_articles:\n",
    "    tmp = [hun_stem.stem(j) for j in i]\n",
    "    hun_stemmed_articles.append(tmp)"
   ]
  },
  {
   "cell_type": "code",
   "execution_count": 9,
   "metadata": {},
   "outputs": [
    {
     "name": "stdout",
     "output_type": "stream",
     "text": [
      "CPU times: user 7h 48min 6s, sys: 32min 25s, total: 8h 20min 31s\n",
      "Wall time: 8h 20min 45s\n"
     ]
    }
   ],
   "source": [
    "%%time\n",
    "en_stemmed_articles = []\n",
    "for i in en_articles:\n",
    "    tmp = [en_stem.stem(j) for j in i]\n",
    "    en_stemmed_articles.append(tmp)"
   ]
  },
  {
   "cell_type": "markdown",
   "metadata": {},
   "source": [
    "## Let's train word2vec on both stemmed and not stemmed articles!"
   ]
  },
  {
   "cell_type": "markdown",
   "metadata": {},
   "source": [
    "Hungarian"
   ]
  },
  {
   "cell_type": "code",
   "execution_count": 10,
   "metadata": {},
   "outputs": [
    {
     "name": "stdout",
     "output_type": "stream",
     "text": [
      "CPU times: user 1h 7min 28s, sys: 2min 37s, total: 1h 10min 5s\n",
      "Wall time: 13min 46s\n"
     ]
    }
   ],
   "source": [
    "%%time\n",
    "params = {'size': 200, 'window': 10, 'min_count': 10, 'workers':20 , 'sample': 1e-3,}\n",
    "hun_word2vec = Word2Vec(hun_articles, **params)\n",
    "hun_word2vec.save('models/hun_word2vec')"
   ]
  },
  {
   "cell_type": "code",
   "execution_count": 11,
   "metadata": {},
   "outputs": [
    {
     "name": "stdout",
     "output_type": "stream",
     "text": [
      "CPU times: user 1h 5min 12s, sys: 2min 8s, total: 1h 7min 20s\n",
      "Wall time: 11min 47s\n"
     ]
    }
   ],
   "source": [
    "%%time\n",
    "params = {'size': 200, 'window': 10, 'min_count': 10, 'workers':20 , 'sample': 1e-3,}\n",
    "hun_word2vec_stemmed = Word2Vec(hun_stemmed_articles, **params)\n",
    "hun_word2vec_stemmed.save('models/hun_word2vec_stemmed')"
   ]
  },
  {
   "cell_type": "markdown",
   "metadata": {},
   "source": [
    "English"
   ]
  },
  {
   "cell_type": "code",
   "execution_count": 12,
   "metadata": {},
   "outputs": [
    {
     "name": "stdout",
     "output_type": "stream",
     "text": [
      "CPU times: user 20h 19min 51s, sys: 26min 59s, total: 20h 46min 51s\n",
      "Wall time: 3h 39min 38s\n"
     ]
    }
   ],
   "source": [
    "%%time\n",
    "params = {'size': 200, 'window': 10, 'min_count': 10, 'workers':20 , 'sample': 1e-3,}\n",
    "en_word2vec = Word2Vec(en_articles, **params)\n",
    "en_word2vec.save('models/en_word2vec')"
   ]
  },
  {
   "cell_type": "code",
   "execution_count": 13,
   "metadata": {},
   "outputs": [
    {
     "name": "stdout",
     "output_type": "stream",
     "text": [
      "CPU times: user 19h 17min 29s, sys: 18min 50s, total: 19h 36min 19s\n",
      "Wall time: 3h 1min 12s\n"
     ]
    }
   ],
   "source": [
    "%%time\n",
    "params = {'size': 200, 'window': 10, 'min_count': 10, 'workers':20 , 'sample': 1e-3,}\n",
    "en_word2vec_stemmed = Word2Vec(en_stemmed_articles, **params)\n",
    "en_word2vec_stemmed.save('models/en_word2vec_stemmed')"
   ]
  }
 ],
 "metadata": {
  "kernelspec": {
   "display_name": "Python 3",
   "language": "python",
   "name": "python3"
  },
  "language_info": {
   "codemirror_mode": {
    "name": "ipython",
    "version": 3
   },
   "file_extension": ".py",
   "mimetype": "text/x-python",
   "name": "python",
   "nbconvert_exporter": "python",
   "pygments_lexer": "ipython3",
   "version": "3.5.2"
  }
 },
 "nbformat": 4,
 "nbformat_minor": 2
}
